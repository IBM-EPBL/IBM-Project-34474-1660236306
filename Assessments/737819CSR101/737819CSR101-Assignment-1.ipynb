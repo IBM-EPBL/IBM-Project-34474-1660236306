{
 "cells": [
  {
   "cell_type": "markdown",
   "id": "621e18b1",
   "metadata": {},
   "source": [
    "TEAM ID:PNT2022TMID04381\n",
    "737819CSR101-Assign\n",
    "1.Split this String"
   ]
  },
  {
   "cell_type": "code",
   "execution_count": null,
   "id": "a926ed1f",
   "metadata": {},
   "outputs": [],
   "source": [
    "s=\"Hi there Sam!\""
   ]
  },
  {
   "cell_type": "code",
   "execution_count": 1,
   "id": "00e1059e",
   "metadata": {},
   "outputs": [
    {
     "name": "stdout",
     "output_type": "stream",
     "text": [
      "['Hi', 'there', 'Sam!']\n"
     ]
    }
   ],
   "source": [
    "s=\"Hi there Sam!\"\n",
    "print(s.split())"
   ]
  },
  {
   "cell_type": "markdown",
   "id": "5ca73d27",
   "metadata": {},
   "source": [
    "2.Use .format() to print the following string"
   ]
  },
  {
   "cell_type": "code",
   "execution_count": null,
   "id": "19072568",
   "metadata": {},
   "outputs": [],
   "source": [
    "planet=\"Earth\"\n",
    "diameter=12742"
   ]
  },
  {
   "cell_type": "code",
   "execution_count": 2,
   "id": "1318ce69",
   "metadata": {},
   "outputs": [
    {
     "name": "stdout",
     "output_type": "stream",
     "text": [
      "The diameter of Earth is 12742 kilometers.\n"
     ]
    }
   ],
   "source": [
    "planet=\"Earth\"\n",
    "diameter=12742\n",
    "txt=\"The diameter of {name} is {dia} kilometers.\".format(name=planet,dia=diameter)\n",
    "print(txt)"
   ]
  },
  {
   "cell_type": "markdown",
   "id": "8b757ce2",
   "metadata": {},
   "source": [
    "3.In this nest dictionary grab the word \"hello\""
   ]
  },
  {
   "cell_type": "code",
   "execution_count": null,
   "id": "88bf1e5b",
   "metadata": {},
   "outputs": [],
   "source": [
    "d={'k1':[1,2,3,{'tricky':['oh','man','inception',{'target':[1,2,3,'hello']}]}]}"
   ]
  },
  {
   "cell_type": "code",
   "execution_count": 3,
   "id": "1c6df80a",
   "metadata": {},
   "outputs": [
    {
     "name": "stdout",
     "output_type": "stream",
     "text": [
      "hello\n"
     ]
    }
   ],
   "source": [
    "d={'k1':[1,2,3,{'tricky':['oh','man','inception',{'target':[1,2,3,'hello']}]}]}\n",
    "print(d['k1'][3][\"tricky\"][3]['target'][3])"
   ]
  },
  {
   "cell_type": "markdown",
   "id": "c89415e6",
   "metadata": {},
   "source": [
    "Numpy"
   ]
  },
  {
   "cell_type": "code",
   "execution_count": 5,
   "id": "6f01dd91",
   "metadata": {},
   "outputs": [],
   "source": [
    "import numpy as np"
   ]
  },
  {
   "cell_type": "markdown",
   "id": "660cda67",
   "metadata": {},
   "source": [
    "4.1 Create an array of 10 zeros?\n",
    "4.2 Create an array of 10 fives?"
   ]
  },
  {
   "cell_type": "code",
   "execution_count": 6,
   "id": "1a2c4d8f",
   "metadata": {},
   "outputs": [
    {
     "data": {
      "text/plain": [
       "array([0., 0., 0., 0., 0., 0., 0., 0., 0., 0.])"
      ]
     },
     "execution_count": 6,
     "metadata": {},
     "output_type": "execute_result"
    }
   ],
   "source": [
    "np.zeros(10)"
   ]
  },
  {
   "cell_type": "code",
   "execution_count": 7,
   "id": "8676b83f",
   "metadata": {},
   "outputs": [
    {
     "data": {
      "text/plain": [
       "array([5., 5., 5., 5., 5., 5., 5., 5., 5., 5.])"
      ]
     },
     "execution_count": 7,
     "metadata": {},
     "output_type": "execute_result"
    }
   ],
   "source": [
    "np.ones(10)*5"
   ]
  },
  {
   "cell_type": "markdown",
   "id": "f23d7cac",
   "metadata": {},
   "source": [
    "5.Create an array of all the even integers from 20 to 35"
   ]
  },
  {
   "cell_type": "code",
   "execution_count": 8,
   "id": "3cdee3e5",
   "metadata": {},
   "outputs": [
    {
     "name": "stdout",
     "output_type": "stream",
     "text": [
      "[20 22 24 26 28 30 32 34]\n"
     ]
    }
   ],
   "source": [
    "print(np.arange(20,35,2))"
   ]
  },
  {
   "cell_type": "markdown",
   "id": "85208e45",
   "metadata": {},
   "source": [
    "6.Create a 3x3 matrix with values ranging from 0 to 8"
   ]
  },
  {
   "cell_type": "code",
   "execution_count": 9,
   "id": "a9051ec5",
   "metadata": {},
   "outputs": [
    {
     "data": {
      "text/plain": [
       "array([[0, 1, 2],\n",
       "       [3, 4, 5],\n",
       "       [6, 7, 8]])"
      ]
     },
     "execution_count": 9,
     "metadata": {},
     "output_type": "execute_result"
    }
   ],
   "source": [
    "np.arange(0,9).reshape((3,3))"
   ]
  },
  {
   "cell_type": "markdown",
   "id": "4172da8e",
   "metadata": {},
   "source": [
    "7.Concatenate a and b\n",
    "a=np.array([1,2,3]),b=np.array([4,5,6])"
   ]
  },
  {
   "cell_type": "code",
   "execution_count": 10,
   "id": "b7d0bfbc",
   "metadata": {},
   "outputs": [
    {
     "name": "stdout",
     "output_type": "stream",
     "text": [
      "[1 2 3 4 5 6]\n"
     ]
    }
   ],
   "source": [
    "a=np.array([1,2,3])\n",
    "b=np.array([4,5,6])\n",
    "c=np.concatenate((a,b))\n",
    "print(c)"
   ]
  },
  {
   "cell_type": "markdown",
   "id": "7d4d1abb",
   "metadata": {},
   "source": [
    "Pandas\n",
    "8.Create a dataframe with 3 rows and 2 columns"
   ]
  },
  {
   "cell_type": "code",
   "execution_count": 11,
   "id": "6f6ef81d",
   "metadata": {},
   "outputs": [],
   "source": [
    "import pandas as pd"
   ]
  },
  {
   "cell_type": "code",
   "execution_count": 12,
   "id": "b67d1060",
   "metadata": {},
   "outputs": [
    {
     "name": "stdout",
     "output_type": "stream",
     "text": [
      "   col_1  col_2\n",
      "0      1      4\n",
      "1      2      5\n",
      "2      3      6\n"
     ]
    }
   ],
   "source": [
    "d={'col_1':[1,2,3],'col_2':[4,5,6]}\n",
    "df=pd.DataFrame(d)\n",
    "print(df)"
   ]
  },
  {
   "cell_type": "markdown",
   "id": "7453a26c",
   "metadata": {},
   "source": [
    "9.Generate the sseries of dates from 1st Jan,2023 to 10th Feb,2023"
   ]
  },
  {
   "cell_type": "code",
   "execution_count": 13,
   "id": "a09c9a19",
   "metadata": {},
   "outputs": [
    {
     "name": "stdout",
     "output_type": "stream",
     "text": [
      "0    2023-01-01\n",
      "1    2023-01-02\n",
      "2    2023-01-03\n",
      "3    2023-01-04\n",
      "4    2023-01-05\n",
      "5    2023-01-06\n",
      "6    2023-01-07\n",
      "7    2023-01-08\n",
      "8    2023-01-09\n",
      "9    2023-01-10\n",
      "10   2023-01-11\n",
      "11   2023-01-12\n",
      "12   2023-01-13\n",
      "13   2023-01-14\n",
      "14   2023-01-15\n",
      "15   2023-01-16\n",
      "16   2023-01-17\n",
      "17   2023-01-18\n",
      "18   2023-01-19\n",
      "19   2023-01-20\n",
      "20   2023-01-21\n",
      "21   2023-01-22\n",
      "22   2023-01-23\n",
      "23   2023-01-24\n",
      "24   2023-01-25\n",
      "25   2023-01-26\n",
      "26   2023-01-27\n",
      "27   2023-01-28\n",
      "28   2023-01-29\n",
      "29   2023-01-30\n",
      "30   2023-01-31\n",
      "31   2023-02-01\n",
      "32   2023-02-02\n",
      "33   2023-02-03\n",
      "34   2023-02-04\n",
      "35   2023-02-05\n",
      "36   2023-02-06\n",
      "37   2023-02-07\n",
      "38   2023-02-08\n",
      "39   2023-02-09\n",
      "40   2023-02-10\n",
      "dtype: datetime64[ns]\n"
     ]
    }
   ],
   "source": [
    "date=pd.date_range(start='1-1-2023',end='02-10-2023')\n",
    "ps=pd.Series(date)\n",
    "print(ps)"
   ]
  },
  {
   "cell_type": "markdown",
   "id": "9f82e85a",
   "metadata": {},
   "source": [
    "10.Create 2D list to DataFrame\n",
    "lists=[[1,'aaa',22],[2,'bbb',25],[3,'ccc',24]]"
   ]
  },
  {
   "cell_type": "code",
   "execution_count": null,
   "id": "9b02f8cc",
   "metadata": {},
   "outputs": [],
   "source": [
    "lists=[[1,'aaa',22],[2,'bbb',25],[3,'ccc',24]]"
   ]
  },
  {
   "cell_type": "code",
   "execution_count": 14,
   "id": "15db63de",
   "metadata": {},
   "outputs": [
    {
     "name": "stdout",
     "output_type": "stream",
     "text": [
      "   col1 col2  col3\n",
      "0     1  aaa    22\n",
      "1     2  bbb    25\n",
      "2     3  ccc    24\n"
     ]
    }
   ],
   "source": [
    "lists=[[1,'aaa',22],[2,'bbb',25],[3,'ccc',24]]\n",
    "df=pd.DataFrame(lists,columns=['col1','col2','col3'])\n",
    "print(df)"
   ]
  },
  {
   "cell_type": "code",
   "execution_count": null,
   "id": "dff7c1e9",
   "metadata": {},
   "outputs": [],
   "source": []
  }
 ],
 "metadata": {
  "kernelspec": {
   "display_name": "Python 3",
   "language": "python",
   "name": "python3"
  },
  "language_info": {
   "codemirror_mode": {
    "name": "ipython",
    "version": 3
   },
   "file_extension": ".py",
   "mimetype": "text/x-python",
   "name": "python",
   "nbconvert_exporter": "python",
   "pygments_lexer": "ipython3",
   "version": "3.6.15"
  }
 },
 "nbformat": 4,
 "nbformat_minor": 5
}
