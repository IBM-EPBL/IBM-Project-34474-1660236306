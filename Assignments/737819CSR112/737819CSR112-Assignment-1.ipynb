{
  "metadata": {
    "language_info": {
      "codemirror_mode": {
        "name": "python",
        "version": 3
      },
      "file_extension": ".py",
      "mimetype": "text/x-python",
      "name": "python",
      "nbconvert_exporter": "python",
      "pygments_lexer": "ipython3",
      "version": "3.8"
    },
    "kernelspec": {
      "name": "python",
      "display_name": "Python (Pyodide)",
      "language": "python"
    }
  },
  "nbformat_minor": 4,
  "nbformat": 4,
  "cells": [
    {
      "cell_type": "code",
      "source": "#              TEAM ID:PNT2022TMID04381\n#              737819CSR112-ASSIGNMENT-1\n\n#              BASIC PYTHON\n",
      "metadata": {
        "trusted": true
      },
      "execution_count": 1,
      "outputs": [
        {
          "name": "stdout",
          "text": "['Hi', 'iam', 'priyanka']\n",
          "output_type": "stream"
        }
      ]
    },
    {
      "cell_type": "code",
      "source": "# 1.SPLIT THE STRING\n\ns=\"Hi iam priyanka\"\nprint(s.split())",
      "metadata": {
        "trusted": true
      },
      "execution_count": 28,
      "outputs": [
        {
          "name": "stdout",
          "text": "['Hi', 'iam', 'priyanka']\n",
          "output_type": "stream"
        }
      ]
    },
    {
      "cell_type": "code",
      "source": "# 2.USING .FORMAT TO PRINT THE STRING\n\nplanet=\"Earth\"\ndiameter=345627\ntxt=\"The diameter of {name} is {dia} kilometers.\".format(name=planet,dia=diameter)\nprint(txt)",
      "metadata": {
        "trusted": true
      },
      "execution_count": 29,
      "outputs": [
        {
          "name": "stdout",
          "text": "The diameter of Earth is 345627 kilometers.\n",
          "output_type": "stream"
        }
      ]
    },
    {
      "cell_type": "code",
      "source": "# 3.IN THIS NEXT DICTIONARY GRAB THE WORD 'RESULT'\n\nstore={'A':[0,1,2,{'text':['yes','no','hi',{'target':[4,5,6,'result']}]}]}\nprint(store['A'][3][\"text\"][3]['target'][3])\n",
      "metadata": {
        "trusted": true
      },
      "execution_count": 30,
      "outputs": [
        {
          "name": "stdout",
          "text": "result\n",
          "output_type": "stream"
        }
      ]
    },
    {
      "cell_type": "code",
      "source": "#IMPORT NUMPY\n\nimport numpy as np",
      "metadata": {
        "trusted": true
      },
      "execution_count": 8,
      "outputs": []
    },
    {
      "cell_type": "code",
      "source": "# 4.1 ARRAY OF 10 ZEROS \n\nnp.zeros(10)",
      "metadata": {
        "trusted": true
      },
      "execution_count": 31,
      "outputs": [
        {
          "execution_count": 31,
          "output_type": "execute_result",
          "data": {
            "text/plain": "array([0., 0., 0., 0., 0., 0., 0., 0., 0., 0.])"
          },
          "metadata": {}
        }
      ]
    },
    {
      "cell_type": "code",
      "source": "# 4.2 ARRAY OF 10 FIVES\n\nnp.ones(10)*5",
      "metadata": {
        "trusted": true
      },
      "execution_count": 14,
      "outputs": [
        {
          "execution_count": 14,
          "output_type": "execute_result",
          "data": {
            "text/plain": "array([5., 5., 5., 5., 5., 5., 5., 5., 5., 5.])"
          },
          "metadata": {}
        }
      ]
    },
    {
      "cell_type": "code",
      "source": "# 5.CREATE AN ARRAY OF ALL EVEN INTEGERS (10-50)\n\nprint(np.arange(10,50,2))",
      "metadata": {
        "trusted": true
      },
      "execution_count": 16,
      "outputs": [
        {
          "name": "stdout",
          "text": "[10 12 14 16 18 20 22 24 26 28 30 32 34 36 38 40 42 44 46 48]\n",
          "output_type": "stream"
        }
      ]
    },
    {
      "cell_type": "code",
      "source": "# 6.CREATE 5*5 VALUES RANGE FROM 0 TO 25\n\nnp.arange(0,25).reshape((5,5))\n",
      "metadata": {
        "trusted": true
      },
      "execution_count": 19,
      "outputs": [
        {
          "execution_count": 19,
          "output_type": "execute_result",
          "data": {
            "text/plain": "array([[ 0,  1,  2,  3,  4],\n       [ 5,  6,  7,  8,  9],\n       [10, 11, 12, 13, 14],\n       [15, 16, 17, 18, 19],\n       [20, 21, 22, 23, 24]])"
          },
          "metadata": {}
        }
      ]
    },
    {
      "cell_type": "code",
      "source": "# 7.CONCATENATE A AND B ARRAY\n\na=np.array([11,12,13,14,15])\nb=np.array([22,23,24,25,26])\nres=np.concatenate((a,b))\nprint (res)",
      "metadata": {
        "trusted": true
      },
      "execution_count": 20,
      "outputs": [
        {
          "name": "stdout",
          "text": "[11 12 13 14 15 22 23 24 25 26]\n",
          "output_type": "stream"
        }
      ]
    },
    {
      "cell_type": "code",
      "source": "# 8.CREATE A DATAFRAME WITH 4 ROWS AND 2 COLS\n\nimport pandas as pd\na={'c1':[1,2,3,4],'c2':[5,6,7,8]}\ndf=pd.DataFrame(a)\nprint(df)\n",
      "metadata": {
        "trusted": true
      },
      "execution_count": 22,
      "outputs": [
        {
          "name": "stdout",
          "text": "   c1  c2\n0   1   5\n1   2   6\n2   3   7\n3   4   8\n",
          "output_type": "stream"
        }
      ]
    },
    {
      "cell_type": "code",
      "source": "# 9.GENERATE THE SERIES OF DATES FROM 1ST JAN,2022 TO 10TH MARCH,2023\n\ndate=pd.date_range(start='1-1-2022', end='10-3-2023')\nst=pd.Series(date)\nprint(date)",
      "metadata": {
        "trusted": true
      },
      "execution_count": 24,
      "outputs": [
        {
          "name": "stdout",
          "text": "DatetimeIndex(['2022-01-01', '2022-01-02', '2022-01-03', '2022-01-04',\n               '2022-01-05', '2022-01-06', '2022-01-07', '2022-01-08',\n               '2022-01-09', '2022-01-10',\n               ...\n               '2023-09-24', '2023-09-25', '2023-09-26', '2023-09-27',\n               '2023-09-28', '2023-09-29', '2023-09-30', '2023-10-01',\n               '2023-10-02', '2023-10-03'],\n              dtype='datetime64[ns]', length=641, freq='D')\n",
          "output_type": "stream"
        }
      ]
    },
    {
      "cell_type": "code",
      "source": "# 10.CREATE A 2D LIST TO DATAFRAME\n\nlists=[[1,'aaa',11],[2,'bbb',22],[3,'ccc',33]]\ndf=pd.DataFrame(lists,columns=['c1','c2','c3'])\nprint(df)",
      "metadata": {
        "trusted": true
      },
      "execution_count": 27,
      "outputs": [
        {
          "name": "stdout",
          "text": "   c1   c2  c3\n0   1  aaa  11\n1   2  bbb  22\n2   3  ccc  33\n",
          "output_type": "stream"
        }
      ]
    }
  ]
}